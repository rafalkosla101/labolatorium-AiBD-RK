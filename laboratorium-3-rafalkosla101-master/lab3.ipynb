{
 "cells": [
  {
   "cell_type": "code",
   "execution_count": 77,
   "id": "6727867d",
   "metadata": {},
   "outputs": [],
   "source": [
    "import psycopg2 as pg\n",
    "import pandas as pd\n",
    "\n",
    "connection = pg.connect(host='pgsql-196447.vipserv.org', port=5432, dbname='wbauer_adb', user='wbauer_adb', password='adb2020')"
   ]
  },
  {
   "cell_type": "code",
   "execution_count": 78,
   "id": "cea82f33",
   "metadata": {},
   "outputs": [
    {
     "name": "stdout",
     "output_type": "stream",
     "text": [
      "    category_id         name         last_update\n",
      "0             1       Action 2006-02-15 09:46:27\n",
      "1             2    Animation 2006-02-15 09:46:27\n",
      "2             3     Children 2006-02-15 09:46:27\n",
      "3             4     Classics 2006-02-15 09:46:27\n",
      "4             5       Comedy 2006-02-15 09:46:27\n",
      "5             6  Documentary 2006-02-15 09:46:27\n",
      "6             7        Drama 2006-02-15 09:46:27\n",
      "7             8       Family 2006-02-15 09:46:27\n",
      "8             9      Foreign 2006-02-15 09:46:27\n",
      "9            10        Games 2006-02-15 09:46:27\n",
      "10           11       Horror 2006-02-15 09:46:27\n",
      "11           12        Music 2006-02-15 09:46:27\n",
      "12           13          New 2006-02-15 09:46:27\n",
      "13           14       Sci-Fi 2006-02-15 09:46:27\n",
      "14           15       Sports 2006-02-15 09:46:27\n",
      "15           16       Travel 2006-02-15 09:46:27\n"
     ]
    }
   ],
   "source": [
    "\n",
    "df = pd.read_sql('select * from category',con=connection)\n",
    "print(df)"
   ]
  },
  {
   "cell_type": "markdown",
   "metadata": {},
   "source": [
    "1.Ile kategorii filmów mamy w wypożyczalni?"
   ]
  },
  {
   "cell_type": "code",
   "execution_count": 79,
   "id": "f7f9bdcb",
   "metadata": {},
   "outputs": [
    {
     "name": "stdout",
     "output_type": "stream",
     "text": [
      "16\n"
     ]
    }
   ],
   "source": [
    "print(len(pd.unique(df['category_id'])))"
   ]
  },
  {
   "cell_type": "markdown",
   "metadata": {},
   "source": [
    "2.Wyświetl listę kategorii w kolejności alfabetycznej."
   ]
  },
  {
   "cell_type": "code",
   "execution_count": 80,
   "id": "88f79a7a",
   "metadata": {},
   "outputs": [
    {
     "name": "stdout",
     "output_type": "stream",
     "text": [
      "           name\n",
      "0        Action\n",
      "1     Animation\n",
      "2      Children\n",
      "3      Classics\n",
      "4        Comedy\n",
      "5   Documentary\n",
      "6         Drama\n",
      "7        Family\n",
      "8       Foreign\n",
      "9         Games\n",
      "10       Horror\n",
      "11        Music\n",
      "12          New\n",
      "13       Sci-Fi\n",
      "14       Sports\n",
      "15       Travel\n"
     ]
    }
   ],
   "source": [
    "df2 = pd.read_sql('select name from category order by name ASC',con=connection)\n",
    "print(df2)"
   ]
  },
  {
   "cell_type": "markdown",
   "metadata": {},
   "source": [
    "3.Znajdź najstarszy i najmłodszy film do wypożyczenia."
   ]
  },
  {
   "cell_type": "code",
   "execution_count": 89,
   "id": "406d8de0",
   "metadata": {},
   "outputs": [
    {
     "name": "stdout",
     "output_type": "stream",
     "text": [
      "2006 Chamber Italian\n",
      "2006 Zorro Ark\n"
     ]
    }
   ],
   "source": [
    "df3 = pd.read_sql('select title, release_year from film order by release_year ASC',con=connection)\n",
    "print(df3['release_year'][0],df3['title'][0])\n",
    "print(df3['release_year'][len(df3)-1],df3['title'][len(df3)-1])\n"
   ]
  },
  {
   "cell_type": "markdown",
   "metadata": {},
   "source": [
    "4.Ile wypożyczeń odbyło się między 2005-07-01 a 2005-08-01?"
   ]
  },
  {
   "cell_type": "code",
   "execution_count": 82,
   "id": "1919f57c",
   "metadata": {
    "scrolled": false
   },
   "outputs": [
    {
     "name": "stdout",
     "output_type": "stream",
     "text": [
      "   count\n",
      "0   6709\n"
     ]
    }
   ],
   "source": [
    "df4 = pd.read_sql(\"select COUNT(*) from rental where rental_date between '2005-07-01'::timestamp and '2005-08-01'::timestamp\",con=connection)\n",
    "print(df4)"
   ]
  },
  {
   "cell_type": "markdown",
   "metadata": {},
   "source": [
    "5.Ile wypożyczeń odbyło się między 2010-01-01 a 2011-02-01?"
   ]
  },
  {
   "cell_type": "code",
   "execution_count": 83,
   "id": "38118226",
   "metadata": {},
   "outputs": [
    {
     "name": "stdout",
     "output_type": "stream",
     "text": [
      "   count\n",
      "0      0\n"
     ]
    }
   ],
   "source": [
    "df5 = pd.read_sql(\"select COUNT(*) from rental where rental_date between '2010-01-01'::timestamp and '2011-02-01'::timestamp\",con=connection)\n",
    "print(df5)"
   ]
  },
  {
   "cell_type": "markdown",
   "metadata": {},
   "source": [
    "6.Znajdź największą płatność wypożyczenia."
   ]
  },
  {
   "cell_type": "code",
   "execution_count": 84,
   "id": "3da3256d",
   "metadata": {},
   "outputs": [
    {
     "name": "stdout",
     "output_type": "stream",
     "text": [
      "     max\n",
      "0  11.99\n"
     ]
    }
   ],
   "source": [
    "df6 = pd.read_sql(\"select MAX(amount) from payment\",con=connection)\n",
    "print(df6)"
   ]
  },
  {
   "cell_type": "markdown",
   "metadata": {},
   "source": [
    "7.Znajdź wszystkich klientów z Polski, Nigerii lub Bangladeszu."
   ]
  },
  {
   "cell_type": "code",
   "execution_count": 85,
   "id": "694f17f2",
   "metadata": {},
   "outputs": [
    {
     "name": "stdout",
     "output_type": "stream",
     "text": [
      "   first_name  last_name     country\n",
      "0       Sonia    Gregory     Nigeria\n",
      "1       Brian      Wyman      Poland\n",
      "2      Sidney   Burleson      Poland\n",
      "3      Rodney    Moeller     Nigeria\n",
      "4     Stephen     Qualls  Bangladesh\n",
      "5       Velma      Lucas     Nigeria\n",
      "6     Marilyn       Ross     Nigeria\n",
      "7       Elsie     Kelley     Nigeria\n",
      "8      Gladys   Hamilton     Nigeria\n",
      "9       Frank   Waggoner  Bangladesh\n",
      "10   Marjorie     Tucker      Poland\n",
      "11      Carol     Garcia     Nigeria\n",
      "12       Leah     Curtis      Poland\n",
      "13      Ruben      Geary      Poland\n",
      "14       Olga    Jimenez     Nigeria\n",
      "15     Bertha   Ferguson     Nigeria\n",
      "16     Tracey    Barrett     Nigeria\n",
      "17         Jo     Fowler     Nigeria\n",
      "18    Johnnie   Chisholm      Poland\n",
      "19    Wallace      Slone     Nigeria\n",
      "20   Michelle      Clark  Bangladesh\n",
      "21    Russell    Brinson      Poland\n",
      "22     Jimmie  Eggleston      Poland\n",
      "23  Constance       Reid     Nigeria\n"
     ]
    }
   ],
   "source": [
    "df7 = pd.read_sql(\"select customer.first_name,customer.last_name,country.country from (((customer inner join address on customer.address_id=address.address_id) inner join city on address.city_id=city.city_id) inner join country on city.country_id=country.country_id) where country in ('Poland','Nigeria','Bangladesh') \",  con=connection)\n",
    "print(df7)"
   ]
  },
  {
   "cell_type": "markdown",
   "metadata": {},
   "source": [
    "8.Gdzie mieszkają członkowie personelu?"
   ]
  },
  {
   "cell_type": "code",
   "execution_count": 86,
   "metadata": {},
   "outputs": [
    {
     "name": "stdout",
     "output_type": "stream",
     "text": [
      "  first_name last_name        city               address    country\n",
      "0       Mike   Hillyer  Lethbridge     23 Workhaven Lane     Canada\n",
      "1        Jon  Stephens   Woodridge  1411 Lillydale Drive  Australia\n"
     ]
    }
   ],
   "source": [
    "df8 = pd.read_sql(\"select staff.first_name, staff.last_name,city.city,address.address,country.country from (((staff inner join address on staff.address_id=address.address_id) inner join city on address.city_id=city.city_id) inner join country on city.country_id=country.country_id)\",con = connection)\n",
    "print(df8)"
   ]
  },
  {
   "cell_type": "markdown",
   "metadata": {},
   "source": [
    "9.Ilu pracowników mieszka w Argentynie lub Hiszpanii?"
   ]
  },
  {
   "cell_type": "code",
   "execution_count": 87,
   "metadata": {},
   "outputs": [
    {
     "name": "stdout",
     "output_type": "stream",
     "text": [
      "0\n"
     ]
    }
   ],
   "source": [
    "df9 = pd.read_sql(\"select staff.first_name, staff.last_name,city.city,address.address,country.country from (((staff inner join address on staff.address_id=address.address_id) inner join city on address.city_id=city.city_id) inner join country on city.country_id=country.country_id) where country in ('Argentina','Spain')\",con = connection)\n",
    "print(len(df9))"
   ]
  },
  {
   "cell_type": "markdown",
   "metadata": {},
   "source": [
    "10.Jakie kategorie filmów zostały wypożyczone przez klientów?"
   ]
  },
  {
   "cell_type": "code",
   "execution_count": 93,
   "metadata": {},
   "outputs": [
    {
     "name": "stdout",
     "output_type": "stream",
     "text": [
      "           name\n",
      "0        Horror\n",
      "1        Comedy\n",
      "2         Drama\n",
      "3        Sci-Fi\n",
      "4       Foreign\n",
      "5      Classics\n",
      "6         Games\n",
      "7        Travel\n",
      "8           New\n",
      "9         Music\n",
      "10       Action\n",
      "11  Documentary\n",
      "12       Sports\n",
      "13    Animation\n",
      "14     Children\n",
      "15       Family\n"
     ]
    }
   ],
   "source": [
    "df11 = pd.read_sql(\"SELECT DISTINCT category.name from (((inventory inner join film on inventory.film_id=film.film_id) inner join film_category on film.film_id=film_category.film_id) inner join category on film_category.category_id=category.category_id)\",con=connection)\n",
    "print(df11)\n"
   ]
  },
  {
   "cell_type": "markdown",
   "metadata": {},
   "source": [
    "11.Znajdź wszystkie kategorie filmów wypożyczonych w Ameryce."
   ]
  },
  {
   "cell_type": "code",
   "execution_count": 95,
   "metadata": {},
   "outputs": [
    {
     "name": "stdout",
     "output_type": "stream",
     "text": [
      "           name\n",
      "0        Horror\n",
      "1        Comedy\n",
      "2        Sci-Fi\n",
      "3         Drama\n",
      "4       Foreign\n",
      "5      Classics\n",
      "6         Games\n",
      "7           New\n",
      "8        Travel\n",
      "9         Music\n",
      "10       Action\n",
      "11  Documentary\n",
      "12       Sports\n",
      "13    Animation\n",
      "14       Family\n",
      "15     Children\n"
     ]
    }
   ],
   "source": [
    "df11 = pd.read_sql(\"SELECT DISTINCT category.name from \\\n",
    "    ((((((((country inner join city on country.country_id=city.country_id)\\\n",
    "    inner join address on city.city_id=address.city_id)\\\n",
    "    inner join customer on address.address_id=customer.customer_id)\\\n",
    "    inner join rental on customer.customer_id=rental.customer_id)\\\n",
    "    inner join inventory on rental.inventory_id=inventory.inventory_id)\\\n",
    "    inner join film on inventory.film_id=film.film_id)\\\n",
    "    inner join film_category on film.film_id=film_category.film_id)\\\n",
    "    inner join category on film_category.category_id=category.category_id) where country in ('United States')\\\n",
    "    \",con=connection)\n",
    "print(df11)"
   ]
  },
  {
   "cell_type": "markdown",
   "metadata": {},
   "source": [
    "12.Znajdź wszystkie tytuły filmów, w których grał: Olympia Pfeiffer lub Julia Zellweger lub Ellen Presley"
   ]
  },
  {
   "cell_type": "code",
   "execution_count": 97,
   "metadata": {},
   "outputs": [
    {
     "name": "stdout",
     "output_type": "stream",
     "text": [
      "   first_name  last_name              title\n",
      "0       Ellen    Presley    Bilko Anonymous\n",
      "1       Ellen    Presley  Caribbean Liberty\n",
      "2       Ellen    Presley   Casper Dragonfly\n",
      "3       Ellen    Presley   Empire Malkovich\n",
      "4       Ellen    Presley      Floats Garden\n",
      "..        ...        ...                ...\n",
      "64      Julia  Zellweger       Outlaw Hanky\n",
      "65      Julia  Zellweger    Panky Submarine\n",
      "66      Julia  Zellweger   Rider Caddyshack\n",
      "67      Julia  Zellweger          Won Dares\n",
      "68      Julia  Zellweger      Wyoming Storm\n",
      "\n",
      "[69 rows x 3 columns]\n"
     ]
    }
   ],
   "source": [
    "df12 = pd.read_sql(\"SELECT actor.first_name,actor.last_name,film.title FROM ((film inner join film_actor on film.film_id=film_actor.film_id) inner join actor on film_actor.actor_id=actor.actor_id) WHERE first_name in ('Olympia','Julia','Ellen') and last_name in ('Pfeiffer','Zellweger','Presley')\",con=connection)\n",
    "print(df12)"
   ]
  }
 ],
 "metadata": {
  "interpreter": {
   "hash": "0600588c3b5f4418cbe7b5ebc6825b479f3bc010269d8b60d75058cdd010adfe"
  },
  "kernelspec": {
   "display_name": "Python 3.7.9 64-bit",
   "name": "python3"
  },
  "language_info": {
   "codemirror_mode": {
    "name": "ipython",
    "version": 3
   },
   "file_extension": ".py",
   "mimetype": "text/x-python",
   "name": "python",
   "nbconvert_exporter": "python",
   "pygments_lexer": "ipython3",
   "version": "3.7.9"
  }
 },
 "nbformat": 4,
 "nbformat_minor": 5
}
