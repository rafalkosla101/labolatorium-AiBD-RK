{
 "cells": [
  {
   "cell_type": "code",
   "execution_count": 1,
   "id": "6727867d",
   "metadata": {},
   "outputs": [],
   "source": [
    "import psycopg2 as pg\n",
    "import pandas as pd\n",
    "\n",
    "connection = pg.connect(host='pgsql-196447.vipserv.org', port=5432, dbname='wbauer_adb', user='wbauer_adb', password='adb2020')"
   ]
  },
  {
   "cell_type": "code",
   "execution_count": 4,
   "id": "cea82f33",
   "metadata": {},
   "outputs": [
    {
     "name": "stdout",
     "output_type": "stream",
     "text": [
      "    category_id         name         last_update\n",
      "0             1       Action 2006-02-15 09:46:27\n",
      "1             2    Animation 2006-02-15 09:46:27\n",
      "2             3     Children 2006-02-15 09:46:27\n",
      "3             4     Classics 2006-02-15 09:46:27\n",
      "4             5       Comedy 2006-02-15 09:46:27\n",
      "5             6  Documentary 2006-02-15 09:46:27\n",
      "6             7        Drama 2006-02-15 09:46:27\n",
      "7             8       Family 2006-02-15 09:46:27\n",
      "8             9      Foreign 2006-02-15 09:46:27\n",
      "9            10        Games 2006-02-15 09:46:27\n",
      "10           11       Horror 2006-02-15 09:46:27\n",
      "11           12        Music 2006-02-15 09:46:27\n",
      "12           13          New 2006-02-15 09:46:27\n",
      "13           14       Sci-Fi 2006-02-15 09:46:27\n",
      "14           15       Sports 2006-02-15 09:46:27\n",
      "15           16       Travel 2006-02-15 09:46:27\n"
     ]
    }
   ],
   "source": [
    "\n",
    "df = pd.read_sql('select * from category',con=connection)\n",
    "print(df)"
   ]
  },
  {
   "cell_type": "code",
   "execution_count": 5,
   "id": "f7f9bdcb",
   "metadata": {},
   "outputs": [
    {
     "name": "stdout",
     "output_type": "stream",
     "text": [
      "16\n"
     ]
    }
   ],
   "source": [
    "print(len(pd.unique(df['category_id'])))"
   ]
  },
  {
   "cell_type": "code",
   "execution_count": 10,
   "id": "88f79a7a",
   "metadata": {},
   "outputs": [
    {
     "name": "stdout",
     "output_type": "stream",
     "text": [
      "           name\n",
      "0        Action\n",
      "1     Animation\n",
      "2      Children\n",
      "3      Classics\n",
      "4        Comedy\n",
      "5   Documentary\n",
      "6         Drama\n",
      "7        Family\n",
      "8       Foreign\n",
      "9         Games\n",
      "10       Horror\n",
      "11        Music\n",
      "12          New\n",
      "13       Sci-Fi\n",
      "14       Sports\n",
      "15       Travel\n"
     ]
    }
   ],
   "source": [
    "df2 = pd.read_sql('select name from category order by name ASC',con=connection)\n",
    "print(df2)"
   ]
  },
  {
   "cell_type": "code",
   "execution_count": 23,
   "id": "406d8de0",
   "metadata": {},
   "outputs": [
    {
     "name": "stdout",
     "output_type": "stream",
     "text": [
      "2006\n",
      "2006\n",
      "Chamber Italian\n",
      "Zorro Ark\n"
     ]
    }
   ],
   "source": [
    "df3 = pd.read_sql('select title, release_year from film order by release_year ASC',con=connection)\n",
    "print(df3['release_year'][0])\n",
    "print(df3['release_year'][len(df3)-1])\n",
    "print(df3['title'][0])\n",
    "print(df3['title'][len(df3)-1])"
   ]
  },
  {
   "cell_type": "code",
   "execution_count": 27,
   "id": "1919f57c",
   "metadata": {
    "scrolled": false
   },
   "outputs": [
    {
     "name": "stdout",
     "output_type": "stream",
     "text": [
      "   count\n",
      "0   6709\n"
     ]
    }
   ],
   "source": [
    "df4 = pd.read_sql(\"select COUNT(*) from rental where rental_date between '2005-07-01'::timestamp and '2005-08-01'::timestamp\",con=connection)\n",
    "print(df4)"
   ]
  },
  {
   "cell_type": "code",
   "execution_count": 28,
   "id": "38118226",
   "metadata": {},
   "outputs": [
    {
     "name": "stdout",
     "output_type": "stream",
     "text": [
      "   count\n",
      "0      0\n"
     ]
    }
   ],
   "source": [
    "df5 = pd.read_sql(\"select COUNT(*) from rental where rental_date between '2010-01-01'::timestamp and '2011-02-01'::timestamp\",con=connection)\n",
    "print(df5)"
   ]
  },
  {
   "cell_type": "code",
   "execution_count": 29,
   "id": "3da3256d",
   "metadata": {},
   "outputs": [
    {
     "name": "stdout",
     "output_type": "stream",
     "text": [
      "     max\n",
      "0  11.99\n"
     ]
    }
   ],
   "source": [
    "df6 = pd.read_sql(\"select MAX(amount) from payment\",con=connection)\n",
    "print(df6)"
   ]
  },
  {
   "cell_type": "code",
   "execution_count": 31,
   "id": "251f1f48",
   "metadata": {},
   "outputs": [
    {
     "name": "stdout",
     "output_type": "stream",
     "text": [
      "   country_id country         last_update\n",
      "0          76  Poland 2006-02-15 09:44:00\n"
     ]
    }
   ],
   "source": [
    "df7 = pd.read_sql(\"select * from country WHERE country IN ('Poland','Nigeria','Bangladesh')\",con=connection)\n",
    "print(df7)"
   ]
  },
  {
   "cell_type": "code",
   "execution_count": null,
   "id": "694f17f2",
   "metadata": {},
   "outputs": [],
   "source": []
  }
 ],
 "metadata": {
  "kernelspec": {
   "display_name": "Python 3",
   "language": "python",
   "name": "python3"
  },
  "language_info": {
   "codemirror_mode": {
    "name": "ipython",
    "version": 3
   },
   "file_extension": ".py",
   "mimetype": "text/x-python",
   "name": "python",
   "nbconvert_exporter": "python",
   "pygments_lexer": "ipython3",
   "version": "3.7.10"
  }
 },
 "nbformat": 4,
 "nbformat_minor": 5
}
