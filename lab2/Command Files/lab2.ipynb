{
 "cells": [
  {
   "cell_type": "code",
   "execution_count": 140,
   "source": [
    "import pandas as pd\r\n",
    "import numpy as np\r\n",
    "with open('weather.txt') as f:\r\n",
    "    data = f.readlines()\r\n",
    "\r\n",
    "data2010 = []\r\n",
    "    \r\n",
    "for line in data:\r\n",
    "    if \"2010\" in line[0:21]:\r\n",
    "        data2010.append(line)\r\n",
    "    \r\n",
    "print(data2010[0])\r\n"
   ],
   "outputs": [
    {
     "output_type": "stream",
     "name": "stdout",
     "text": [
      "MX000017004201001TMAX-9999   -9999   -9999   -9999   -9999   -9999   -9999   -9999   -9999   -9999   -9999   -9999   -9999   -9999   -9999   -9999   -9999   -9999   -9999   -9999   -9999   -9999   -9999   -9999   -9999   -9999   -9999   -9999   -9999     278  S-9999   \n",
      "\n"
     ]
    }
   ],
   "metadata": {}
  },
  {
   "cell_type": "code",
   "execution_count": 141,
   "source": [
    "alldata = []\r\n",
    "i = 0\r\n",
    "for month in data2010:\r\n",
    "    if \"PRCP\" not in month:\r\n",
    "        essentials = [\"MX17004\",2010,month[15:17],month[17:21]]\r\n",
    "        mondata = month[21:].split()\r\n",
    "        alldata.append(essentials + mondata)\r\n",
    "        i += 1\r\n",
    "    if i == 10:\r\n",
    "        break\r\n",
    "alldata2 = [list(i) for i in zip(*alldata)]\r\n",
    "df = pd.DataFrame(alldata2).T\r\n",
    "\r\n",
    "\r\n",
    "df.columns = [\"id\",\"year\",\"month\",\"element\",\"day1\",\"day2\",\"day3\",\"day4\",\"day5\",\"day6\",\"day7\",\r\n",
    "                                \"day8\",\"day9\",\"day10\",\"day11\",\"day12\",\"day13\",\"day14\",\"day15\",\"day16\",\"day17\",\"day18\",\"day19\",\"day20\",\r\n",
    "                                \"day21\",\"day22\",\"day23\",\"day24\",\"day25\",\"day26\",\"day27\",\"day28\",\"day29\",\"day30\",\"day31\"]\r\n",
    "\r\n",
    "df = df.replace(to_replace=[\"-9999\",\"S-9999\",\"S\"],value=\"--\")\r\n",
    "df = pd.melt(df,[\"id\",\"year\",\"month\",\"element\"])\r\n",
    "df = df[df.value !=\"--\"]\r\n",
    "df = df.replace(to_replace=[\"day\"],value=\"\",regex=True)\r\n",
    "df = df.assign(date = df.year.astype(str) + \"-\" + df.month.astype(str) + \"-\" + df.variable.astype(str)[:] )\r\n",
    "df.pop(\"year\")\r\n",
    "df.pop(\"month\")\r\n",
    "df.pop(\"variable\")\r\n",
    "df = df[[\"id\",\"date\",\"element\",\"value\"]]\r\n",
    "print(df)"
   ],
   "outputs": [
    {
     "output_type": "stream",
     "name": "stdout",
     "text": [
      "          id        date element value\n",
      "12   MX17004   2010-02-2    TMAX   273\n",
      "13   MX17004   2010-02-2    TMIN   144\n",
      "32   MX17004   2010-02-4    TMAX   241\n",
      "33   MX17004   2010-02-4    TMIN   144\n",
      "44   MX17004   2010-03-5    TMAX   321\n",
      "45   MX17004   2010-03-5    TMIN   142\n",
      "94   MX17004  2010-03-10    TMAX   345\n",
      "95   MX17004  2010-03-10    TMIN   168\n",
      "112  MX17004  2010-02-12    TMAX   297\n",
      "113  MX17004  2010-02-12    TMIN   134\n",
      "154  MX17004  2010-03-16    TMAX   311\n",
      "155  MX17004  2010-03-16    TMIN   176\n",
      "232  MX17004  2010-02-24    TMAX   299\n",
      "233  MX17004  2010-02-24    TMIN   107\n",
      "266  MX17004  2010-04-27    TMAX   363\n",
      "267  MX17004  2010-04-27    TMIN   167\n",
      "268  MX17004  2010-05-27    TMAX   332\n",
      "269  MX17004  2010-05-27    TMIN   182\n",
      "290  MX17004  2010-01-30    TMAX   278\n",
      "291  MX17004  2010-01-30    TMIN   145\n"
     ]
    }
   ],
   "metadata": {}
  },
  {
   "cell_type": "code",
   "execution_count": 144,
   "source": [
    "dfk = df.pivot([\"id\",\"date\"],\"element\",\"value\")\r\n",
    "print(dfk)"
   ],
   "outputs": [
    {
     "output_type": "stream",
     "name": "stdout",
     "text": [
      "element            TMAX TMIN\n",
      "id      date                \n",
      "MX17004 2010-01-30  278  145\n",
      "        2010-02-12  297  134\n",
      "        2010-02-2   273  144\n",
      "        2010-02-24  299  107\n",
      "        2010-02-4   241  144\n",
      "        2010-03-10  345  168\n",
      "        2010-03-16  311  176\n",
      "        2010-03-5   321  142\n",
      "        2010-04-27  363  167\n",
      "        2010-05-27  332  182\n"
     ]
    }
   ],
   "metadata": {}
  }
 ],
 "metadata": {
  "kernelspec": {
   "name": "python3",
   "display_name": "Python 3.7.9 64-bit"
  },
  "language_info": {
   "codemirror_mode": {
    "name": "ipython",
    "version": 3
   },
   "file_extension": ".py",
   "mimetype": "text/x-python",
   "name": "python",
   "nbconvert_exporter": "python",
   "pygments_lexer": "ipython3",
   "version": "3.7.9"
  },
  "interpreter": {
   "hash": "0600588c3b5f4418cbe7b5ebc6825b479f3bc010269d8b60d75058cdd010adfe"
  }
 },
 "nbformat": 4,
 "nbformat_minor": 5
}