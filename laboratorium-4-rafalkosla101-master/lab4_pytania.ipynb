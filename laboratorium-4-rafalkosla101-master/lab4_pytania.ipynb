{
 "cells": [
  {
   "cell_type": "code",
   "execution_count": 1,
   "id": "c2c1359a",
   "metadata": {},
   "outputs": [],
   "source": [
    "import numpy as np\n",
    "import pickle\n",
    "\n",
    "import psycopg2 as pg\n",
    "import pandas.io.sql as psql\n",
    "import pandas as pd\n",
    "\n",
    "from typing import Union, List, Tuple\n",
    "\n",
    "connection = pg.connect(host='pgsql-196447.vipserv.org', port=5432, dbname='wbauer_adb', user='wbauer_adb', password='adb2020');"
   ]
  },
  {
   "cell_type": "markdown",
   "id": "8518bf45",
   "metadata": {},
   "source": [
    "1.Znajdź listę wszystkich filmów o tej samej długości."
   ]
  },
  {
   "cell_type": "code",
   "execution_count": 2,
   "id": "1f20940a",
   "metadata": {},
   "outputs": [
    {
     "name": "stdout",
     "output_type": "stream",
     "text": [
      "     length  count\n",
      "0       129      7\n",
      "1       106      6\n",
      "2       120      9\n",
      "3       171      8\n",
      "4       138      6\n",
      "..      ...    ...\n",
      "135     159      6\n",
      "136      72      4\n",
      "137     177      6\n",
      "138     141      7\n",
      "139     144      8\n",
      "\n",
      "[140 rows x 2 columns]\n"
     ]
    }
   ],
   "source": [
    "df = pd.read_sql(\"SELECT length,count(title) from film group by length\",con = connection)\n",
    "print(df)"
   ]
  },
  {
   "cell_type": "markdown",
   "id": "cefc417d",
   "metadata": {},
   "source": [
    "2.Znajdź wszystkich klientów mieszkających w tym samym mieście."
   ]
  },
  {
   "cell_type": "code",
   "execution_count": 3,
   "id": "083f1790",
   "metadata": {},
   "outputs": [
    {
     "name": "stdout",
     "output_type": "stream",
     "text": [
      "                     city  count\n",
      "0                 Asuncin      1\n",
      "1              Rae Bareli      1\n",
      "2               Molodetno      1\n",
      "3                 Yerevan      1\n",
      "4    Vitria de Santo Anto      1\n",
      "..                    ...    ...\n",
      "592                  Abha      1\n",
      "593               Kolpino      1\n",
      "594          Garden Grove      1\n",
      "595          Novoterkassk      1\n",
      "596              Maracabo      1\n",
      "\n",
      "[597 rows x 2 columns]\n"
     ]
    }
   ],
   "source": [
    "df2 = pd.read_sql(\"SELECT city.city,count(customer_id) \\\n",
    "                  from ((customer inner join address on customer.address_id = address.address_id)\\\n",
    "                  inner join city on address.city_id=city.city_id)\\\n",
    "                  group by city\",con = connection)\n",
    "print(df2)"
   ]
  },
  {
   "cell_type": "markdown",
   "id": "70b38d3c",
   "metadata": {},
   "source": [
    "3.Oblicz średni koszt wypożyczenia wszystkich filmów."
   ]
  },
  {
   "cell_type": "code",
   "execution_count": 4,
   "id": "4e15aae9",
   "metadata": {},
   "outputs": [
    {
     "name": "stdout",
     "output_type": "stream",
     "text": [
      "        avg\n",
      "0  4.200606\n"
     ]
    }
   ],
   "source": [
    "df3 = pd.read_sql(\"SELECT avg(amount) from payment\",con=connection)\n",
    "print(df3)"
   ]
  },
  {
   "cell_type": "markdown",
   "id": "6aec5952",
   "metadata": {},
   "source": [
    "4.Oblicz i wyświetl liczbę filmów we wszystkich kategoriach."
   ]
  },
  {
   "cell_type": "code",
   "execution_count": 5,
   "id": "17b13f5e",
   "metadata": {},
   "outputs": [
    {
     "name": "stdout",
     "output_type": "stream",
     "text": [
      "           name  count\n",
      "0        Horror     56\n",
      "1        Comedy     58\n",
      "2        Sci-Fi     61\n",
      "3         Drama     62\n",
      "4       Foreign     73\n",
      "5      Classics     57\n",
      "6         Games     61\n",
      "7           New     63\n",
      "8        Travel     57\n",
      "9         Music     51\n",
      "10       Action     64\n",
      "11  Documentary     68\n",
      "12       Sports     74\n",
      "13    Animation     66\n",
      "14       Family     69\n",
      "15     Children     60\n"
     ]
    }
   ],
   "source": [
    "df4 = pd.read_sql(\"SELECT category.name,count(title) from ((film inner join film_category on film.film_id=film_category.film_id)\\\n",
    "inner join category on film_category.category_id = category.category_id)group by name\",con=connection)\n",
    "print(df4)"
   ]
  },
  {
   "cell_type": "markdown",
   "id": "b682fbfb",
   "metadata": {},
   "source": [
    "5.Wyświetl liczbę wszystkich klientów pogrupowanych według kraju."
   ]
  },
  {
   "cell_type": "code",
   "execution_count": 6,
   "id": "7ad3961c",
   "metadata": {},
   "outputs": [
    {
     "name": "stdout",
     "output_type": "stream",
     "text": [
      "                  country  count\n",
      "0                Cambodia      2\n",
      "1                  Turkey     15\n",
      "2                 Germany      7\n",
      "3              Madagascar      1\n",
      "4                    Chad      1\n",
      "..                    ...    ...\n",
      "103                 Sudan      2\n",
      "104  United Arab Emirates      3\n",
      "105              Tanzania      3\n",
      "106      French Polynesia      2\n",
      "107              Bulgaria      2\n",
      "\n",
      "[108 rows x 2 columns]\n"
     ]
    }
   ],
   "source": [
    "df5 = pd.read_sql(\"SELECT country.country,count(customer_id) \\\n",
    "                  from ((customer inner join address on customer.address_id = address.address_id)\\\n",
    "                  inner join city on address.city_id=city.city_id)\\\n",
    "                  inner join country on city.country_id=country.country_id\\\n",
    "                  group by country\",con = connection)\n",
    "print(df5)"
   ]
  },
  {
   "cell_type": "markdown",
   "id": "83f33aa2",
   "metadata": {},
   "source": [
    "6.Wyświetl informacje o sklepie, który ma więcej niż 100 klientów i mniej niż 300 klientów."
   ]
  },
  {
   "cell_type": "code",
   "execution_count": 7,
   "id": "cce818a9",
   "metadata": {},
   "outputs": [
    {
     "name": "stdout",
     "output_type": "stream",
     "text": [
      "   address_id  store_id  count\n",
      "0           2         2    273\n"
     ]
    }
   ],
   "source": [
    "df6 = pd.read_sql(\"Select store.address_id,store.store_id,count(customer_id)\\\n",
    "                  from customer inner join store on customer.store_id=store.store_id \\\n",
    "                  group by store.store_id having count(*) between 100 and 300\",con = connection)\n",
    "print(df6)"
   ]
  },
  {
   "cell_type": "markdown",
   "id": "9a48a3ab",
   "metadata": {},
   "source": [
    "7.Wybierz wszystkich klientów, którzy oglądali filmy ponad 200 godzin."
   ]
  },
  {
   "cell_type": "code",
   "execution_count": 8,
   "id": "560c6b1c",
   "metadata": {},
   "outputs": [
    {
     "name": "stdout",
     "output_type": "stream",
     "text": [
      "    first_name    last_name   sum\n",
      "0        Scott      Shelley  2916\n",
      "1          Tim         Cary  4476\n",
      "2       Samuel       Marlow  2291\n",
      "3         Vera        Mccoy  2275\n",
      "4       Nelson  Christenson  2119\n",
      "..         ...          ...   ...\n",
      "594      Erica     Matthews  2727\n",
      "595    Stanley    Scroggins  3694\n",
      "596      Ellen      Simpson  2977\n",
      "597      Patsy     Davidson  3513\n",
      "598  Gwendolyn          May  2890\n",
      "\n",
      "[599 rows x 3 columns]\n"
     ]
    }
   ],
   "source": [
    "df7 = pd.read_sql(\"Select customer.first_name,customer.last_name,sum(film.length)\\\n",
    "                from customer inner join rental on customer.customer_id=rental.customer_id\\\n",
    "                inner join inventory on rental.inventory_id=inventory.inventory_id\\\n",
    "                inner join film on inventory.film_id=film.film_id group by customer.first_name,customer.last_name \\\n",
    "                having sum(film.length) > 1200\",con=connection)\n",
    "print(df7)"
   ]
  },
  {
   "cell_type": "markdown",
   "id": "8330acb6",
   "metadata": {},
   "source": [
    "8.Oblicz średnią wartość wypożyczenia filmu."
   ]
  },
  {
   "cell_type": "code",
   "execution_count": 9,
   "metadata": {},
   "outputs": [
    {
     "name": "stdout",
     "output_type": "stream",
     "text": [
      "                           title       avg\n",
      "0                 Frontier Cabin  5.990000\n",
      "1    Arachnophobia Rollercoaster  4.772609\n",
      "2             Cruelty Unforgiven  1.156667\n",
      "3         Intolerable Intentions  5.704286\n",
      "4                  Monsoon Cause  6.101111\n",
      "..                           ...       ...\n",
      "953                  Reef Salute  2.171818\n",
      "954                   Bugsy Song  5.101111\n",
      "955                Orient Closer  4.754706\n",
      "956          Brotherhood Blanket  4.294348\n",
      "957                Boulevard Mob  3.552500\n",
      "\n",
      "[958 rows x 2 columns]\n"
     ]
    }
   ],
   "source": [
    "df8 = pd.read_sql(\"SELECT title,avg(payment.amount) from ((film inner join inventory on film.film_id=inventory.film_id)\\\n",
    "                        inner join rental on inventory.inventory_id=rental.inventory_id)\\\n",
    "                        inner join payment on rental.rental_id = payment.rental_id\\\n",
    "                        group by title\",con=connection)\n",
    "print(df8)"
   ]
  },
  {
   "cell_type": "markdown",
   "metadata": {},
   "source": [
    "9.Oblicz średnią wartość długości filmu we wszystkich kategoriach."
   ]
  },
  {
   "cell_type": "code",
   "execution_count": 10,
   "metadata": {},
   "outputs": [
    {
     "name": "stdout",
     "output_type": "stream",
     "text": [
      "           name         avg\n",
      "0        Horror  112.482143\n",
      "1        Comedy  115.827586\n",
      "2        Sci-Fi  108.196721\n",
      "3         Drama  120.838710\n",
      "4       Foreign  121.698630\n",
      "5      Classics  111.666667\n",
      "6         Games  127.836066\n",
      "7           New  111.126984\n",
      "8        Travel  113.315789\n",
      "9         Music  113.647059\n",
      "10       Action  111.609375\n",
      "11  Documentary  108.750000\n",
      "12       Sports  128.202703\n",
      "13    Animation  111.015152\n",
      "14       Family  114.782609\n",
      "15     Children  109.800000\n"
     ]
    }
   ],
   "source": [
    "df9 = pd.read_sql(\"SELECT category.name,avg(length) from ((film inner join film_category on film.film_id=film_category.film_id)\\\n",
    "inner join category on film_category.category_id = category.category_id)group by name\",con=connection)\n",
    "print(df9)"
   ]
  },
  {
   "cell_type": "markdown",
   "metadata": {},
   "source": [
    "10.Znajdź najdłuższe tytuły filmowe we wszystkich kategoriach."
   ]
  },
  {
   "cell_type": "code",
   "execution_count": 11,
   "metadata": {},
   "outputs": [
    {
     "name": "stdout",
     "output_type": "stream",
     "text": [
      "                         title       name\n",
      "0      Extraordinary Conquerer     Travel\n",
      "1      Entrapment Satisfaction     Travel\n",
      "2      Trainspotting Strangers     Travel\n",
      "3      Desperate Trainspotting     Travel\n",
      "4    Satisfaction Confidential     Sports\n",
      "..                         ...        ...\n",
      "157     Deliverance Mulholland  Animation\n",
      "158    Entrapment Satisfaction     Action\n",
      "159    Trainspotting Strangers     Action\n",
      "160    Desperate Trainspotting     Action\n",
      "161    Extraordinary Conquerer     Action\n",
      "\n",
      "[162 rows x 2 columns]\n"
     ]
    }
   ],
   "source": [
    "df10 = pd.read_sql(\"SELECT title,name from film,category where (name,char_length(title)) in \\\n",
    "(SELECT category.name,max(char_length(title)) from ((film inner join film_category on film.film_id=film_category.film_id)\\\n",
    "inner join category on film_category.category_id = category.category_id) group by name) order by name desc\",con=connection)\n",
    "print(df10)"
   ]
  },
  {
   "cell_type": "markdown",
   "metadata": {},
   "source": [
    "11.Znajdź najdłuższy film we wszystkich kategoriach. Porównaj wynik z pkt 10."
   ]
  },
  {
   "cell_type": "code",
   "execution_count": 12,
   "metadata": {},
   "outputs": [
    {
     "name": "stdout",
     "output_type": "stream",
     "text": [
      "                  title    name  length\n",
      "0        Darn Forrester  Travel     185\n",
      "1    Soldiers Evolution  Travel     185\n",
      "2           Gangs Pride  Travel     185\n",
      "3          Worst Banger  Travel     185\n",
      "4         Muscle Bright  Travel     185\n",
      "..                  ...     ...     ...\n",
      "137       Chicago North  Action     185\n",
      "138  Soldiers Evolution  Action     185\n",
      "139       Muscle Bright  Action     185\n",
      "140           Home Pity  Action     185\n",
      "141   Sweet Brotherhood  Action     185\n",
      "\n",
      "[142 rows x 3 columns]\n"
     ]
    }
   ],
   "source": [
    "df11 = pd.read_sql(\"SELECT title,name,length from film,category where (name,length) in \\\n",
    "(SELECT category.name,max(length) from ((film inner join film_category on film.film_id=film_category.film_id)\\\n",
    "inner join category on film_category.category_id = category.category_id) group by name) order by name desc\",con=connection)\n",
    "print(df11)"
   ]
  }
 ],
 "metadata": {
  "interpreter": {
   "hash": "0600588c3b5f4418cbe7b5ebc6825b479f3bc010269d8b60d75058cdd010adfe"
  },
  "kernelspec": {
   "display_name": "Python 3.7.9 64-bit",
   "name": "python3"
  },
  "language_info": {
   "codemirror_mode": {
    "name": "ipython",
    "version": 3
   },
   "file_extension": ".py",
   "mimetype": "text/x-python",
   "name": "python",
   "nbconvert_exporter": "python",
   "pygments_lexer": "ipython3",
   "version": "3.7.9"
  }
 },
 "nbformat": 4,
 "nbformat_minor": 5
}
