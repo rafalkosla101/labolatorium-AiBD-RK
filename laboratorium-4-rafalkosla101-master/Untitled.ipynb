{
 "cells": [
  {
   "cell_type": "code",
   "execution_count": null,
   "id": "c2c1359a",
   "metadata": {},
   "outputs": [],
   "source": [
    "import numpy as np\n",
    "import pickle\n",
    "\n",
    "import psycopg2 as pg\n",
    "import pandas.io.sql as psql\n",
    "import pandas as pd\n",
    "\n",
    "from typing import Union, List, Tuple\n",
    "\n",
    "connection = pg.connect(host='pgsql-196447.vipserv.org', port=5432, dbname='wbauer_adb', user='wbauer_adb', password='adb2020');"
   ]
  },
  {
   "cell_type": "markdown",
   "id": "8518bf45",
   "metadata": {},
   "source": [
    "1.Znajdź listę wszystkich filmów o tej samej długości."
   ]
  },
  {
   "cell_type": "code",
   "execution_count": 4,
   "id": "1f20940a",
   "metadata": {},
   "outputs": [
    {
     "name": "stdout",
     "output_type": "stream",
     "text": [
      "     length  count\n",
      "0       129      7\n",
      "1       106      6\n",
      "2       120      9\n",
      "3       171      8\n",
      "4       138      6\n",
      "..      ...    ...\n",
      "135     159      6\n",
      "136      72      4\n",
      "137     177      6\n",
      "138     141      7\n",
      "139     144      8\n",
      "\n",
      "[140 rows x 2 columns]\n"
     ]
    }
   ],
   "source": [
    "df = pd.read_sql(\"SELECT length,count(title) from film group by length\",con = connection)\n",
    "print(df)"
   ]
  },
  {
   "cell_type": "markdown",
   "id": "cefc417d",
   "metadata": {},
   "source": [
    "2.Znajdź wszystkich klientów mieszkających w tym samym mieście."
   ]
  },
  {
   "cell_type": "code",
   "execution_count": 8,
   "id": "083f1790",
   "metadata": {},
   "outputs": [
    {
     "name": "stdout",
     "output_type": "stream",
     "text": [
      "                     city  count\n",
      "0                 Asuncin      1\n",
      "1              Rae Bareli      1\n",
      "2               Molodetno      1\n",
      "3                 Yerevan      1\n",
      "4    Vitria de Santo Anto      1\n",
      "..                    ...    ...\n",
      "592                  Abha      1\n",
      "593               Kolpino      1\n",
      "594          Garden Grove      1\n",
      "595          Novoterkassk      1\n",
      "596              Maracabo      1\n",
      "\n",
      "[597 rows x 2 columns]\n"
     ]
    }
   ],
   "source": [
    "df2 = pd.read_sql(\"SELECT city.city,count(customer_id) \\\n",
    "                  from ((customer inner join address on customer.address_id = address.address_id)\\\n",
    "                  inner join city on address.city_id=city.city_id)\\\n",
    "                  group by city\",con = connection)\n",
    "print(df2)"
   ]
  },
  {
   "cell_type": "markdown",
   "id": "70b38d3c",
   "metadata": {},
   "source": [
    "3.Oblicz średni koszt wypożyczenia wszystkich filmów."
   ]
  },
  {
   "cell_type": "code",
   "execution_count": 10,
   "id": "4e15aae9",
   "metadata": {},
   "outputs": [
    {
     "name": "stdout",
     "output_type": "stream",
     "text": [
      "        avg\n",
      "0  4.200606\n"
     ]
    }
   ],
   "source": [
    "df3 = pd.read_sql(\"SELECT avg(amount) from payment\",con=connection)\n",
    "print(df3)"
   ]
  },
  {
   "cell_type": "markdown",
   "id": "6aec5952",
   "metadata": {},
   "source": [
    "4.Oblicz i wyświetl liczbę filmów we wszystkich kategoriach."
   ]
  },
  {
   "cell_type": "code",
   "execution_count": 11,
   "id": "17b13f5e",
   "metadata": {},
   "outputs": [
    {
     "name": "stdout",
     "output_type": "stream",
     "text": [
      "           name  count\n",
      "0        Horror     56\n",
      "1        Comedy     58\n",
      "2        Sci-Fi     61\n",
      "3         Drama     62\n",
      "4       Foreign     73\n",
      "5      Classics     57\n",
      "6         Games     61\n",
      "7           New     63\n",
      "8        Travel     57\n",
      "9         Music     51\n",
      "10       Action     64\n",
      "11  Documentary     68\n",
      "12       Sports     74\n",
      "13    Animation     66\n",
      "14       Family     69\n",
      "15     Children     60\n"
     ]
    }
   ],
   "source": [
    "df4 = pd.read_sql(\"SELECT category.name,count(title) from ((film inner join film_category on film.film_id=film_category.film_id)\\\n",
    "inner join category on film_category.category_id = category.category_id)group by name\",con=connection)\n",
    "print(df4)"
   ]
  },
  {
   "cell_type": "markdown",
   "id": "b682fbfb",
   "metadata": {},
   "source": [
    "5.Wyświetl liczbę wszystkich klientów pogrupowanych według kraju."
   ]
  },
  {
   "cell_type": "code",
   "execution_count": 17,
   "id": "7ad3961c",
   "metadata": {},
   "outputs": [
    {
     "name": "stdout",
     "output_type": "stream",
     "text": [
      "                  country  count\n",
      "0                Cambodia      2\n",
      "1                  Turkey     15\n",
      "2                 Germany      7\n",
      "3              Madagascar      1\n",
      "4                    Chad      1\n",
      "..                    ...    ...\n",
      "103                 Sudan      2\n",
      "104  United Arab Emirates      3\n",
      "105              Tanzania      3\n",
      "106      French Polynesia      2\n",
      "107              Bulgaria      2\n",
      "\n",
      "[108 rows x 2 columns]\n"
     ]
    }
   ],
   "source": [
    "df5 = pd.read_sql(\"SELECT country.country,count(customer_id) \\\n",
    "                  from ((customer inner join address on customer.address_id = address.address_id)\\\n",
    "                  inner join city on address.city_id=city.city_id)\\\n",
    "                  inner join country on city.country_id=country.country_id\\\n",
    "                  group by country\",con = connection)\n",
    "print(df5)"
   ]
  },
  {
   "cell_type": "markdown",
   "id": "83f33aa2",
   "metadata": {},
   "source": [
    "6.Wyświetl informacje o sklepie, który ma więcej niż 100 klientów i mniej niż 300 klientów."
   ]
  },
  {
   "cell_type": "code",
   "execution_count": 28,
   "id": "cce818a9",
   "metadata": {},
   "outputs": [
    {
     "name": "stdout",
     "output_type": "stream",
     "text": [
      "   address_id  store_id  count\n",
      "0           2         2    273\n"
     ]
    }
   ],
   "source": [
    "df6 = pd.read_sql(\"Select store.address_id,store.store_id,count(customer_id)\\\n",
    "                  from customer inner join store on customer.store_id=store.store_id \\\n",
    "                  group by store.store_id having count(*) between 100 and 300\",con = connection)\n",
    "print(df6) # tu trzeba wrocic i to porpawic"
   ]
  },
  {
   "cell_type": "markdown",
   "id": "9a48a3ab",
   "metadata": {},
   "source": [
    "7.Wybierz wszystkich klientów, którzy oglądali filmy ponad 200 godzin."
   ]
  },
  {
   "cell_type": "code",
   "execution_count": 42,
   "id": "560c6b1c",
   "metadata": {},
   "outputs": [
    {
     "name": "stdout",
     "output_type": "stream",
     "text": [
      "   first_name  last_name   sum\n",
      "0         Tim       Cary  4476\n",
      "1      Regina      Berry  4051\n",
      "2     Jessica       Hall  4150\n",
      "3      Marion     Snyder  4599\n",
      "4       Daisy      Bates  4369\n",
      "5       Tommy    Collazo  4051\n",
      "6     Brandon       Huey  4160\n",
      "7      Rhonda    Kennedy  4307\n",
      "8     Eleanor       Hunt  5360\n",
      "9      Janice       Ward  4366\n",
      "10     Marsha    Douglas  4154\n",
      "11     Sherry   Marshall  4582\n",
      "12      Naomi   Jennings  4164\n",
      "13     Warren    Sherrod  4233\n",
      "14     Sherri     Rhodes  4030\n",
      "15      Steve  Mackenzie  4206\n",
      "16     Martha   Gonzalez  4237\n",
      "17      Clara       Shaw  4808\n",
      "18      Elsie     Kelley  4014\n",
      "19     Justin        Ngo  4550\n",
      "20     Angela  Hernandez  4362\n",
      "21       Mike        Way  4023\n",
      "22        Sue     Peters  4319\n",
      "23   Michelle      Clark  4157\n",
      "24  Elizabeth      Brown  4531\n",
      "25      Grace      Ellis  4060\n",
      "26     Wesley       Bull  4808\n",
      "27      Louis      Leone  4333\n",
      "28      Brett   Cornwell  4197\n",
      "29       June    Carroll  4261\n",
      "30       Karl       Seal  5388\n",
      "31     Curtis       Irby  4280\n",
      "32      Tammy    Sanders  5065\n",
      "33     Marcia       Dean  4734\n",
      "34      Harry       Arce  4222\n",
      "35    Russell    Brinson  4640\n",
      "36      Diane    Collins  4514\n"
     ]
    }
   ],
   "source": [
    "df7 = pd.read_sql(\"Select customer.first_name,customer.last_name,sum(film.length)\\\n",
    "                from customer inner join rental on customer.customer_id=rental.customer_id\\\n",
    "                inner join inventory on rental.inventory_id=inventory.inventory_id\\\n",
    "                inner join film on inventory.film_id=film.film_id group by customer.first_name,customer.last_name \\\n",
    "                having sum(film.length) > 1200\",con=connection)\n",
    "print(df7)"
   ]
  },
  {
   "cell_type": "code",
   "execution_count": null,
   "id": "8330acb6",
   "metadata": {},
   "outputs": [],
   "source": []
  }
 ],
 "metadata": {
  "kernelspec": {
   "display_name": "Python 3 (ipykernel)",
   "language": "python",
   "name": "python3"
  },
  "language_info": {
   "codemirror_mode": {
    "name": "ipython",
    "version": 3
   },
   "file_extension": ".py",
   "mimetype": "text/x-python",
   "name": "python",
   "nbconvert_exporter": "python",
   "pygments_lexer": "ipython3",
   "version": "3.8.10"
  }
 },
 "nbformat": 4,
 "nbformat_minor": 5
}
